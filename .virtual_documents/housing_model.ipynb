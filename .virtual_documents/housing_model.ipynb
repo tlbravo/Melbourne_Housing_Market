import pandas as pd
import numpy as np
import sklearn


housing = pd.read_csv('Melbourne_housing.csv')
housing.columns


#Selecting the columns I want to work with.
housing = housing[['Rooms', 'Price', 'Distance', 'Postcode', 'Bedroom2', 'Bathroom', 'Car', 'Landsize', 'BuildingArea', 'YearBuilt',
                   'Lattitude', 'Longtitude', 'Propertycount', 'Regionname']]
housing.head()


print(housing.shape)


price = housing['Price']
features = housing.drop('Price', axis=1)

from sklearn.model_selection import train_test_split

X_train, X_test, y_train, y_test = train_test_split(features, price, test_size=0.2, random_state=42)

X_train.describe()





import matplotlib.pyplot as plt

plt.rc('font', size=14)
plt.rc('axes', labelsize=14, titlesize=14)
plt.rc('legend', fontsize=14)
plt.rc('xtick', labelsize=5)
plt.rc('ytick', labelsize=10)

# plots histograms of numerical data
X_train.hist(bins=50, figsize=(12, 8))
plt.show()


X_train.plot(kind="scatter", x="Longtitude", y="Lattitude", grid=True, alpha=0.2)
plt.show()


numerical_columns = ["Rooms", "Distance", "Bedroom2", 
                     "Bathroom", "Car", "Landsize", "BuildingArea", "Lattitude", "Longtitude"]
corr_matrix1 = pd.concat([X_train[numerical_columns], y_train], axis=1)

corr_matrix = corr_matrix1.corr()
corr_matrix["Price"].sort_values(ascending=False)


# creates a Series of True/False values if there is a null value in a column
null_rows_idx = X_train.isnull().any(axis=1)

# selecting only the rows with null values
X_train.loc[null_rows_idx].head()


from sklearn.pipeline import make_pipeline
from sklearn.impute import SimpleImputer
from sklearn.preprocessing import StandardScaler
from sklearn.preprocessing import OneHotEncoder

numerical_pipeline = make_pipeline(SimpleImputer(strategy="median"), StandardScaler())
categorical_pipeline = make_pipeline(SimpleImputer(strategy="constant", fill_value="No Info"), OneHotEncoder(drop='first'))


from sklearn.compose import ColumnTransformer

numerical_attributes = X_train[["Rooms", "Distance", "Bedroom2", 
                     "Bathroom", "Car", "Landsize", "BuildingArea", "Lattitude", "Longtitude"]].columns.tolist()
categorical_attributes = X_train[['Regionname']].columns.tolist()

x_process = ColumnTransformer(transformers=[
        ("num", numerical_pipeline, numerical_attributes),
        ("cat", categorical_pipeline, categorical_attributes),
    ])

X_train_prepared = x_process.fit_transform(X_train)


from sklearn.linear_model import LinearRegression

lin_reg = LinearRegression()
lin_reg.fit(X_train_prepared, y_train)






