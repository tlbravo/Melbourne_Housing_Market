{
 "cells": [
  {
   "cell_type": "code",
   "execution_count": null,
   "id": "21d1c9c9-a751-4cfd-8b55-ea913f9ce004",
   "metadata": {},
   "outputs": [],
   "source": [
    "import pandas as pd\n",
    "import numpy as np\n",
    "import sklearn"
   ]
  },
  {
   "cell_type": "code",
   "execution_count": null,
   "id": "d8a6e072-cf99-4056-805d-715d56b76e22",
   "metadata": {},
   "outputs": [],
   "source": [
    "housing = pd.read_csv('Melbourne_housing.csv')\n",
    "housing.columns"
   ]
  },
  {
   "cell_type": "code",
   "execution_count": null,
   "id": "1e30418f-8875-4041-959c-66db63c96c17",
   "metadata": {},
   "outputs": [],
   "source": [
    "#Selecting the columns I want to work with.\n",
    "housing = housing[['Rooms', 'Price', 'Distance', 'Postcode', 'Bedroom2', 'Bathroom', 'Car', 'Landsize', 'BuildingArea', 'YearBuilt',\n",
    "                   'Lattitude', 'Longtitude', 'Propertycount', 'Regionname']]\n",
    "housing.head()"
   ]
  },
  {
   "cell_type": "code",
   "execution_count": null,
   "id": "2a348c72-68a9-4af1-8cb4-00fc822a6d9e",
   "metadata": {},
   "outputs": [],
   "source": [
    "print(housing.shape)"
   ]
  },
  {
   "cell_type": "code",
   "execution_count": null,
   "id": "43643b94-0c88-4c20-b893-6463b445ab00",
   "metadata": {},
   "outputs": [],
   "source": [
    "price = housing['Price']\n",
    "features = housing.drop('Price', axis=1)\n",
    "\n",
    "from sklearn.model_selection import train_test_split\n",
    "\n",
    "X_train, X_test, y_train, y_test = train_test_split(features, price, test_size=0.2, random_state=42)\n",
    "\n",
    "X_train.describe()"
   ]
  },
  {
   "cell_type": "code",
   "execution_count": null,
   "id": "df6a7e62-5e17-4ff3-aeaf-742e8cb3afc0",
   "metadata": {},
   "outputs": [],
   "source": [
    "from sklearn.impute import SimpleImputer\n",
    "imputer = SimpleImputer(strategy=\"median\")\n",
    "y_train = imputer.fit_transform(y_train.values.reshape(-1, 1))\n"
   ]
  },
  {
   "cell_type": "code",
   "execution_count": null,
   "id": "439b1637-b04f-4515-a6f8-baea127aa078",
   "metadata": {},
   "outputs": [],
   "source": [
    "import matplotlib.pyplot as plt\n",
    "\n",
    "plt.rc('font', size=14)\n",
    "plt.rc('axes', labelsize=14, titlesize=14)\n",
    "plt.rc('legend', fontsize=14)\n",
    "plt.rc('xtick', labelsize=5)\n",
    "plt.rc('ytick', labelsize=10)\n",
    "\n",
    "# plots histograms of numerical data\n",
    "X_train.hist(bins=50, figsize=(12, 8))\n",
    "plt.show()"
   ]
  },
  {
   "cell_type": "code",
   "execution_count": null,
   "id": "c29ed8a2-90ab-473f-9d1b-c2bb2a86adbe",
   "metadata": {},
   "outputs": [],
   "source": [
    "X_train.plot(kind=\"scatter\", x=\"Longtitude\", y=\"Lattitude\", grid=True, alpha=0.2)\n",
    "plt.show()"
   ]
  },
  {
   "cell_type": "code",
   "execution_count": null,
   "id": "2aa68e5e-eba4-4307-8c43-6406d4b8d590",
   "metadata": {},
   "outputs": [],
   "source": [
    "# Convert y_train back to a DataFrame or Series\n",
    "y_train = pd.Series(y_train.ravel(), name=\"Price\")\n",
    "\n",
    "numerical_columns = [\"Rooms\", \"Distance\", \"Bedroom2\", \n",
    "                     \"Bathroom\", \"Car\", \"Landsize\", \"BuildingArea\", \"Lattitude\", \"Longtitude\"]\n",
    "corr_matrix1 = pd.concat([X_train[numerical_columns], y_train], axis=1)\n",
    "\n",
    "corr_matrix = corr_matrix1.corr()\n",
    "corr_matrix[\"Price\"].sort_values(ascending=False)"
   ]
  },
  {
   "cell_type": "markdown",
   "id": "59f51cee-26e7-43a2-8cf5-f4f8ffbdf5d8",
   "metadata": {},
   "source": [
    "The number of cars per household has a negative correlation with the property's price. \n",
    "\n",
    "The number of rooms per houseshold attribute is slightly more correlated than the building area. "
   ]
  },
  {
   "cell_type": "code",
   "execution_count": null,
   "id": "e0e1523f-197e-40c9-9339-1e3e19f3d801",
   "metadata": {},
   "outputs": [],
   "source": [
    "# creates a Series of True/False values if there is a null value in a column\n",
    "null_rows_idx = X_train.isnull().any(axis=1)\n",
    "\n",
    "# selecting only the rows with null values\n",
    "X_train.loc[null_rows_idx].head()"
   ]
  },
  {
   "cell_type": "code",
   "execution_count": null,
   "id": "316e2a7a-64d5-48cf-9b23-8257c43d6a33",
   "metadata": {},
   "outputs": [],
   "source": [
    "from sklearn.pipeline import make_pipeline\n",
    "from sklearn.preprocessing import StandardScaler\n",
    "from sklearn.preprocessing import OneHotEncoder\n",
    "\n",
    "numerical_pipeline = make_pipeline(SimpleImputer(strategy=\"median\"), StandardScaler())\n",
    "categorical_pipeline = make_pipeline(SimpleImputer(strategy=\"constant\", fill_value=\"No Info\"), OneHotEncoder(drop='first'))"
   ]
  },
  {
   "cell_type": "code",
   "execution_count": null,
   "id": "715b97a3-28e4-4e2f-9af3-dcdd727f9ca5",
   "metadata": {},
   "outputs": [],
   "source": [
    "from sklearn.compose import ColumnTransformer\n",
    "\n",
    "numerical_attributes = X_train[[\"Rooms\", \"Distance\", \"Bedroom2\", \n",
    "                     \"Bathroom\", \"Car\", \"Landsize\", \"BuildingArea\", \"Lattitude\", \"Longtitude\"]].columns.tolist()\n",
    "categorical_attributes = X_train[['Regionname']].columns.tolist()\n",
    "\n",
    "process = ColumnTransformer(transformers=[\n",
    "        (\"num\", numerical_pipeline, numerical_attributes),\n",
    "        (\"cat\", categorical_pipeline, categorical_attributes),\n",
    "    ])\n",
    "\n",
    "X_train_prepared = process.fit_transform(X_train)"
   ]
  },
  {
   "cell_type": "code",
   "execution_count": null,
   "id": "18e09ef9-5774-422d-8aa9-590ff200fc21",
   "metadata": {},
   "outputs": [],
   "source": [
    "from sklearn.linear_model import LinearRegression\n",
    "\n",
    "lin_reg = LinearRegression()\n",
    "lin_reg.fit(X_train_prepared, y_train)"
   ]
  },
  {
   "cell_type": "code",
   "execution_count": null,
   "id": "d9ef236b-4261-4df5-88ee-77739d3efdcc",
   "metadata": {},
   "outputs": [],
   "source": [
    "from sklearn.model_selection import cross_val_score\n",
    "\n",
    "lin_reg_rmses = -cross_val_score(lin_reg, X_train_prepared, y_train,\n",
    "                              scoring=\"neg_root_mean_squared_error\", cv=10)\n",
    "\n",
    "pd.Series(lin_reg_rmses).describe()"
   ]
  },
  {
   "cell_type": "code",
   "execution_count": null,
   "id": "4f044baa-06a3-4445-9665-911322236e69",
   "metadata": {},
   "outputs": [],
   "source": [
    "from sklearn.metrics import mean_squared_error\n",
    "\n",
    "housng_rmse = mean_squared_error(X_train_prepared, y_train,\n",
    "                              squared=False)\n",
    "housng_rmse"
   ]
  },
  {
   "cell_type": "code",
   "execution_count": null,
   "id": "fb639f5e-5217-4aed-b1b6-85d35331b806",
   "metadata": {},
   "outputs": [],
   "source": [
    "from sklearn.tree import DecisionTreeRegressor\n",
    "\n",
    "decision_reg = make_pipeline(process, DecisionTreeRegressor(random_state=42))\n",
    "decision_reg.fit(X_train_prepared, y_train)"
   ]
  },
  {
   "cell_type": "code",
   "execution_count": null,
   "id": "2e3f2339-8403-46e5-89b7-98d432989466",
   "metadata": {},
   "outputs": [],
   "source": []
  }
 ],
 "metadata": {
  "kernelspec": {
   "display_name": "Python 3 (ipykernel)",
   "language": "python",
   "name": "python3"
  },
  "language_info": {
   "codemirror_mode": {
    "name": "ipython",
    "version": 3
   },
   "file_extension": ".py",
   "mimetype": "text/x-python",
   "name": "python",
   "nbconvert_exporter": "python",
   "pygments_lexer": "ipython3",
   "version": "3.10.15"
  }
 },
 "nbformat": 4,
 "nbformat_minor": 5
}
